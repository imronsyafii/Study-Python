{
 "cells": [
  {
   "cell_type": "code",
   "execution_count": 3,
   "id": "e34d4f0a",
   "metadata": {},
   "outputs": [
    {
     "ename": "ModuleNotFoundError",
     "evalue": "No module named 'hangman_art'",
     "output_type": "error",
     "traceback": [
      "\u001b[1;31m---------------------------------------------------------------------------\u001b[0m",
      "\u001b[1;31mModuleNotFoundError\u001b[0m                       Traceback (most recent call last)",
      "Cell \u001b[1;32mIn [3], line 16\u001b[0m\n\u001b[0;32m     13\u001b[0m lives \u001b[39m=\u001b[39m \u001b[39m5\u001b[39m\n\u001b[0;32m     15\u001b[0m \u001b[39m#TODO-3: - Import the logo from hangman_art.py and print it at the start of the game.\u001b[39;00m\n\u001b[1;32m---> 16\u001b[0m \u001b[39mfrom\u001b[39;00m \u001b[39mhangman_art\u001b[39;00m \u001b[39mimport\u001b[39;00m logo\n\u001b[0;32m     17\u001b[0m \u001b[39mprint\u001b[39m(logo)\n",
      "\u001b[1;31mModuleNotFoundError\u001b[0m: No module named 'hangman_art'"
     ]
    }
   ],
   "source": [
    "# Hangman Project\n",
    "\n",
    "import random\n",
    "\n",
    "from hangman_words import word_list\n",
    "\n",
    "#TODO-1: - Update the word list to use the 'word_list' from hangman_words.py\n",
    "#Delete this line: word_list = [\"ardvark\", \"baboon\", \"camel\"]\n",
    "chosen_word = random.choice(word_list)\n",
    "word_lenght = len(chosen_word)\n",
    "\n",
    "end_of_game = False\n",
    "lives = 5\n",
    "\n",
    "#TODO-3: - Import the logo from hangman_art.py and print it at the start of the game.\n",
    "\n",
    "\n"
   ]
  }
 ],
 "metadata": {
  "kernelspec": {
   "display_name": "Python 3.9.0 64-bit",
   "language": "python",
   "name": "python3"
  },
  "language_info": {
   "codemirror_mode": {
    "name": "ipython",
    "version": 3
   },
   "file_extension": ".py",
   "mimetype": "text/x-python",
   "name": "python",
   "nbconvert_exporter": "python",
   "pygments_lexer": "ipython3",
   "version": "3.9.0"
  },
  "toc": {
   "base_numbering": 1,
   "nav_menu": {},
   "number_sections": true,
   "sideBar": true,
   "skip_h1_title": false,
   "title_cell": "Table of Contents",
   "title_sidebar": "Contents",
   "toc_cell": false,
   "toc_position": {},
   "toc_section_display": true,
   "toc_window_display": false
  },
  "vscode": {
   "interpreter": {
    "hash": "ea4861ddc7105870717d47462546fa97854214ef8958f43fbf0e7aa66223642a"
   }
  }
 },
 "nbformat": 4,
 "nbformat_minor": 5
}
