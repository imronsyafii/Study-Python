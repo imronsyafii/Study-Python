{
 "cells": [
  {
   "cell_type": "code",
   "execution_count": 7,
   "id": "f9a8136f",
   "metadata": {},
   "outputs": [
    {
     "name": "stdout",
     "output_type": "stream",
     "text": [
      "8\n"
     ]
    }
   ],
   "source": [
    "# Membuat random integer\n",
    "import random\n",
    "\n",
    "random_integer = random.randint(1, 10)\n",
    "print(random_integer)"
   ]
  },
  {
   "cell_type": "code",
   "execution_count": 11,
   "id": "c952361f",
   "metadata": {},
   "outputs": [
    {
     "name": "stdout",
     "output_type": "stream",
     "text": [
      "<module 'my_module' from 'd:\\\\DATASCIENTIST\\\\JupyterNotebook\\\\100 Days of Code Python\\\\Study-Python\\\\my_module.py'> 4\n"
     ]
    }
   ],
   "source": [
    "import random\n",
    "import my_module\n",
    "\n",
    "print(my_module, 4)"
   ]
  },
  {
   "cell_type": "code",
   "execution_count": 18,
   "id": "f7aad3a9",
   "metadata": {},
   "outputs": [
    {
     "name": "stdout",
     "output_type": "stream",
     "text": [
      "0.8736432598141349\n"
     ]
    }
   ],
   "source": [
    "randomfloat = random.random()       # nilai random.random(0,1, 1)\n",
    "print(randomfloat)"
   ]
  },
  {
   "cell_type": "code",
   "execution_count": 20,
   "id": "a9566214",
   "metadata": {},
   "outputs": [
    {
     "name": "stdout",
     "output_type": "stream",
     "text": [
      "62\n",
      "3.3817771031016326\n",
      "Your love score is 39\n"
     ]
    }
   ],
   "source": [
    "random_integer = random.randint(1, 100)\n",
    "print(random_integer)\n",
    "\n",
    "randomfloat = random.random() * 5      # nilai random.random(0,1, 1)\n",
    "print(randomfloat)\n",
    "\n",
    "love_score = random.randint(1, 100)\n",
    "print(f\"Your love score is {love_score}\")\n"
   ]
  },
  {
   "cell_type": "code",
   "execution_count": 6,
   "id": "9c49dab5",
   "metadata": {},
   "outputs": [
    {
     "name": "stdout",
     "output_type": "stream",
     "text": [
      "Create a seed number: 1\n",
      "Tails\n"
     ]
    }
   ],
   "source": [
    "# Challenge Heads or Tails\n",
    "\n",
    "import random\n",
    "\n",
    "choose_users = int(input(\"Create a seed number: \"))\n",
    "\n",
    "random_side = random.randint(0, 1)\n",
    "\n",
    "if random_side == 0:\n",
    "    print(\"Tails\")\n",
    "else:\n",
    "    print(\"Heads\")\n"
   ]
  },
  {
   "cell_type": "code",
   "execution_count": 10,
   "id": "1f417c1e",
   "metadata": {},
   "outputs": [
    {
     "name": "stdout",
     "output_type": "stream",
     "text": [
      "Syafii\n",
      "['Muhammad', 'Zola', 'Syafii', 'Rahmat']\n",
      "['Muhammad', 'Zola', 'Syafii', 'Rahmat', 'Zola Austin']\n"
     ]
    }
   ],
   "source": [
    "# List\n",
    "\n",
    "name = [\"Muhammad\", \"Imron\", \"Syafii\", \"Rahmat\"]\n",
    "print(name[2])\n",
    "\n",
    "name[1] = \"Zola\"\n",
    "print(name)\n",
    "\n",
    "name.append(\"Zola Austin\")\n",
    "print(name)"
   ]
  },
  {
   "cell_type": "code",
   "execution_count": 5,
   "id": "c9d532fb",
   "metadata": {},
   "outputs": [
    {
     "name": "stdout",
     "output_type": "stream",
     "text": [
      "Give me everybody's name, separated by a comma. asda, asdasd, adasdgh, ewew,\n",
      "adasdgh is going to bpay the bill. \n"
     ]
    }
   ],
   "source": [
    "import random\n",
    "\n",
    "name_string = input(\"Give me everybody's name, separated by a comma. \")\n",
    "names = name_string.split(\", \")\n",
    "num_items = len(names)  #<< Fungsi Len untuk menjumlahkan seberapa banyak list/ integer\n",
    "random_chooise = random.randint(0, num_items -1)\n",
    "who_pay = names[random_chooise]\n",
    "print(who_pay + \" is going to bpay the bill. \")"
   ]
  },
  {
   "cell_type": "code",
   "execution_count": 7,
   "id": "34209765",
   "metadata": {},
   "outputs": [
    {
     "name": "stdout",
     "output_type": "stream",
     "text": [
      "['Boim', 'CUY', 'Aluana', 'Beckam', 'Brader', 'Keren', 'Loe cuy']\n"
     ]
    }
   ],
   "source": [
    "BPS = [\"Boim\", \"Bandrex\", \"Aluana\", \"Beckam\"]\n",
    "\n",
    "BPS[1] = \"CUY\"\n",
    "\n",
    "BPS.extend([\"Brader\", \"Keren\", \"Loe cuy\"])\n",
    "print(BPS)"
   ]
  },
  {
   "cell_type": "code",
   "execution_count": 23,
   "id": "0abc0283",
   "metadata": {},
   "outputs": [
    {
     "name": "stdout",
     "output_type": "stream",
     "text": [
      "What do you choose? Type 0 for Rock, 1 for Paper, or 2 for Scissors.\n",
      "1\n",
      "\n",
      "    _______\n",
      "---'   ____)____\n",
      "          ______)\n",
      "          _______)\n",
      "         _______)\n",
      "---.__________)\n",
      "\n",
      "Computer chose: \n",
      "\n",
      "    _______\n",
      "---'   ____)____\n",
      "          ______)\n",
      "          _______)\n",
      "         _______)\n",
      "---.__________)\n",
      "\n",
      "It's draw\n"
     ]
    }
   ],
   "source": [
    "# Project - Rock Paper Scissors\n",
    "\n",
    "import random\n",
    "\n",
    "rock = '''\n",
    "    _______\n",
    "---'   ____)\n",
    "      (_____)\n",
    "      (_____)\n",
    "      (____)\n",
    "---.__(___)\n",
    "'''\n",
    "\n",
    "paper = '''\n",
    "    _______\n",
    "---'   ____)____\n",
    "          ______)\n",
    "          _______)\n",
    "         _______)\n",
    "---.__________)\n",
    "'''\n",
    "\n",
    "scissors = '''\n",
    "    _______\n",
    "---'   ____)____\n",
    "          ______)\n",
    "       __________)\n",
    "      (____)\n",
    "---.__(___)\n",
    "'''\n",
    "\n",
    "game_images = [rock, paper, scissors]\n",
    "\n",
    "user_choice =  int(input(\"What do you choose? Type 0 for Rock, 1 for Paper, or 2 for Scissors.\\n\"))\n",
    "print(game_images[user_choice])\n",
    "\n",
    "computer_choice = random.randint(0, 2)\n",
    "print(\"Computer chose: \")\n",
    "print(game_images[computer_choice])\n",
    "    \n",
    "\n",
    "if user_choice == 0 and computer_choice == 2:\n",
    "    print(\"You Win\")\n",
    "if computer_choice == 0 and user_choice == 2:\n",
    "    print(\"You lose\")\n",
    "elif computer_choice > user_choice:\n",
    "    print(\"You lose\")\n",
    "elif computer_choice == user_choice:\n",
    "    print(\"It's draw\")  \n",
    "elif user_choice >= 3 or user_choice < 0:\n",
    "    print(\"You typed an invalid number, you lose!\")"
   ]
  }
 ],
 "metadata": {
  "kernelspec": {
   "display_name": "Python 3",
   "language": "python",
   "name": "python3"
  },
  "language_info": {
   "codemirror_mode": {
    "name": "ipython",
    "version": 3
   },
   "file_extension": ".py",
   "mimetype": "text/x-python",
   "name": "python",
   "nbconvert_exporter": "python",
   "pygments_lexer": "ipython3",
   "version": "3.9.0"
  },
  "toc": {
   "base_numbering": 1,
   "nav_menu": {},
   "number_sections": true,
   "sideBar": true,
   "skip_h1_title": false,
   "title_cell": "Table of Contents",
   "title_sidebar": "Contents",
   "toc_cell": false,
   "toc_position": {},
   "toc_section_display": true,
   "toc_window_display": false
  },
  "vscode": {
   "interpreter": {
    "hash": "ea4861ddc7105870717d47462546fa97854214ef8958f43fbf0e7aa66223642a"
   }
  }
 },
 "nbformat": 4,
 "nbformat_minor": 5
}
