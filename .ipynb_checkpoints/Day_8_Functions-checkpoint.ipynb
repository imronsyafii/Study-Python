{
 "cells": [
  {
   "cell_type": "code",
   "execution_count": 7,
   "id": "7e718e5c",
   "metadata": {},
   "outputs": [
    {
     "name": "stdout",
     "output_type": "stream",
     "text": [
      "Hello Imran\n",
      "How do you do?\n",
      "Isn't the weather nice today right?\n"
     ]
    }
   ],
   "source": [
    "# Simple Function\n",
    "\n",
    "def greet():\n",
    "    print(\"Hello Imran\")\n",
    "    print(\"How do you do?\")\n",
    "    print(\"Isn't the weather nice today right?\")\n",
    "greet()"
   ]
  },
  {
   "cell_type": "code",
   "execution_count": 9,
   "id": "f5ea8409",
   "metadata": {},
   "outputs": [
    {
     "name": "stdout",
     "output_type": "stream",
     "text": [
      "Hello Imran\n",
      "How do you do? Imran\n"
     ]
    }
   ],
   "source": [
    "# Function that allows for input\n",
    "\n",
    "def greet_with_name(name):\n",
    "    print(f\"Hello {name}\")\n",
    "    print(f\"How do you do? {name}\")\n",
    "greet_with_name(\"Imran\")"
   ]
  },
  {
   "cell_type": "code",
   "execution_count": 15,
   "id": "0c6cab7f",
   "metadata": {},
   "outputs": [
    {
     "name": "stdout",
     "output_type": "stream",
     "text": [
      "Hello Imran\n",
      "How do you do Imran?\n",
      "What is it like in Bandung?\n"
     ]
    }
   ],
   "source": [
    "# Function with more that 1 input\n",
    "\n",
    "def greet_with(name, location):\n",
    "    print(f\"Hello {name}\")\n",
    "    print(f\"How do you do {name}?\")\n",
    "    print(f\"What is it like in {location}?\")\n",
    "greet_with(\"Imran\", \"Bandung\")"
   ]
  },
  {
   "cell_type": "code",
   "execution_count": 17,
   "id": "da7261ff",
   "metadata": {},
   "outputs": [
    {
     "name": "stdout",
     "output_type": "stream",
     "text": [
      "Hello Imran\n",
      "How do you do Imran?\n",
      "What is it like in Bandung?\n"
     ]
    }
   ],
   "source": [
    "# Keyword Arguments\n",
    "\n",
    "def greet_with(name, location):\n",
    "    print(f\"Hello {name}\")\n",
    "    print(f\"How do you do {name}?\")\n",
    "    print(f\"What is it like in {location}?\")\n",
    "greet_with(location = \"Bandung\", name = \"Imran\")"
   ]
  },
  {
   "cell_type": "code",
   "execution_count": 25,
   "id": "d65caa58",
   "metadata": {},
   "outputs": [
    {
     "name": "stdout",
     "output_type": "stream",
     "text": [
      "please input wall height: 7\n",
      "please input wall width: 4\n",
      "You'll need 6 cans of paint\n"
     ]
    }
   ],
   "source": [
    "# Exercise 1 - Paint Area Calculator (Solve 1)\n",
    "\n",
    "test_height = int(input(\"please input wall height: \"))\n",
    "test_width = int(input(\"please input wall width: \"))\n",
    "coverage = 5\n",
    "\n",
    "count = (test_height * test_width) / coverage\n",
    "number_of_cans = round(count)\n",
    "\n",
    "print(f\"You'll need {number_of_cans} cans of paint\")"
   ]
  },
  {
   "cell_type": "code",
   "execution_count": 26,
   "id": "9a56d6fa",
   "metadata": {},
   "outputs": [
    {
     "name": "stdout",
     "output_type": "stream",
     "text": [
      "Height of wall: 7\n",
      "Width of wall: 4\n",
      "You'll need 6 cans of paint\n"
     ]
    }
   ],
   "source": [
    "# Exercise 1 - Paint Area Calculator (Solve 2)\n",
    "\n",
    "import math\n",
    "\n",
    "def paint_calc(height, width, cover):\n",
    "    area = height * width\n",
    "    numb_of_cans = math.ceil(area / cover)\n",
    "    print(f\"You'll need {numb_of_cans} cans of paint\")\n",
    "\n",
    "test_h = int(input(\"Height of wall: \"))\n",
    "test_w = int(input(\"Width of wall: \"))\n",
    "coverage = 5\n",
    "paint_calc(height=test_h, width=test_w, cover=coverage)"
   ]
  },
  {
   "cell_type": "code",
   "execution_count": 5,
   "id": "a9f58acf",
   "metadata": {},
   "outputs": [
    {
     "ename": "SyntaxError",
     "evalue": "invalid syntax (<ipython-input-5-6d5ff79280c2>, line 5)",
     "output_type": "error",
     "traceback": [
      "\u001b[1;36m  File \u001b[1;32m\"<ipython-input-5-6d5ff79280c2>\"\u001b[1;36m, line \u001b[1;32m5\u001b[0m\n\u001b[1;33m    for i in range(2, number)\u001b[0m\n\u001b[1;37m                             ^\u001b[0m\n\u001b[1;31mSyntaxError\u001b[0m\u001b[1;31m:\u001b[0m invalid syntax\n"
     ]
    }
   ],
   "source": [
    "# Exercise 2 - Prime Numbers\n",
    "\n",
    "def prime_checker(number):\n",
    "    is_prime = True\n",
    "    for i in range(2, number)\n",
    "        if number % i == 0:\n",
    "            is_prime = False\n",
    "    if is_prime:\n",
    "        print(\"It's a prime number.\")\n",
    "    else:\n",
    "        print(\"It's not a prime number.\")\n",
    "\n",
    "n = int(input(\"Check this number: \"))\n",
    "prime_checker(number=n)"
   ]
  },
  {
   "cell_type": "code",
   "execution_count": null,
   "id": "1bd0e27f",
   "metadata": {},
   "outputs": [],
   "source": []
  }
 ],
 "metadata": {
  "kernelspec": {
   "display_name": "Python 3",
   "language": "python",
   "name": "python3"
  },
  "language_info": {
   "codemirror_mode": {
    "name": "ipython",
    "version": 3
   },
   "file_extension": ".py",
   "mimetype": "text/x-python",
   "name": "python",
   "nbconvert_exporter": "python",
   "pygments_lexer": "ipython3",
   "version": "3.8.8"
  },
  "toc": {
   "base_numbering": 1,
   "nav_menu": {},
   "number_sections": true,
   "sideBar": true,
   "skip_h1_title": false,
   "title_cell": "Table of Contents",
   "title_sidebar": "Contents",
   "toc_cell": false,
   "toc_position": {},
   "toc_section_display": true,
   "toc_window_display": false
  }
 },
 "nbformat": 4,
 "nbformat_minor": 5
}
