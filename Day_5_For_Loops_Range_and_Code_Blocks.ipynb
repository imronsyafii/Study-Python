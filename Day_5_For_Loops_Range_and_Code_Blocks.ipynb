{
 "cells": [
  {
   "cell_type": "code",
   "execution_count": 3,
   "id": "1cc4b84a",
   "metadata": {},
   "outputs": [
    {
     "name": "stdout",
     "output_type": "stream",
     "text": [
      "Apple\n",
      "Apple Boom\n",
      "Banana\n",
      "Banana Boom\n",
      "Avocado\n",
      "Avocado Boom\n"
     ]
    }
   ],
   "source": [
    "# Loops\n",
    "\n",
    "fruits = [\"Apple\", \"Banana\", \"Avocado\"]\n",
    "\n",
    "for x in fruits:\n",
    "    print(x)\n",
    "    print(x + \" Boom\")"
   ]
  },
  {
   "cell_type": "code",
   "execution_count": null,
   "id": "4185a419",
   "metadata": {},
   "outputs": [],
   "source": [
    "# student_heights = [156, 178, 165, 171, 187]\n",
    "\n",
    "student_heights = input(\"Please input a list of student height: \").split()\n",
    "for x in range(0, len(student_heights)):\n",
    "    student_heights[x] = int(student_heights[x])\n",
    "print(student_heights)\n",
    "\n",
    "total_height = sum(student_heights) \n",
    "number_of_students = len(student_heights)\n",
    "average_height = round(total_height / number_of_students)  # round untuk pembulatan\n",
    "print(total_height)\n",
    "print(number_of_students)\n",
    "print(average_height)"
   ]
  },
  {
   "cell_type": "code",
   "execution_count": 11,
   "id": "7c09e6d9",
   "metadata": {},
   "outputs": [
    {
     "name": "stdout",
     "output_type": "stream",
     "text": [
      "Please input a list of student height bellow: \n",
      "156 178 165 171 187\n",
      "[156, 178, 165, 171, 187]\n",
      "857\n",
      "5\n",
      "171\n"
     ]
    }
   ],
   "source": [
    "# another solution with Loops\n",
    "\n",
    "student_heights = input(\"Please input a list of student height bellow: \\n\").split()\n",
    "for height in range(0, len(student_heights)):\n",
    "    student_heights[height] = int(student_heights[height])\n",
    "print(student_heights)\n",
    "\n",
    "total_heights = 0\n",
    "for height in student_heights:\n",
    "    total_heights += height\n",
    "print(total_heights)\n",
    "\n",
    "total_students = 0\n",
    "for student in student_heights:\n",
    "    total_students += 1\n",
    "print(total_students)\n",
    "\n",
    "average_student = round(total_heights / total_students)\n",
    "print(average_student)"
   ]
  },
  {
   "cell_type": "code",
   "execution_count": 27,
   "id": "3c854295",
   "metadata": {},
   "outputs": [
    {
     "name": "stdout",
     "output_type": "stream",
     "text": [
      "Please input a list of student scores: 78 65 89 86 55 91 64 89\n",
      "[78, 65, 89, 86, 55, 91, 64, 89]\n",
      "Your highest score is: 187\n"
     ]
    }
   ],
   "source": [
    "student_scores = input(\"Please input a list of student scores: \").split()\n",
    "for score in range(0, len(student_scores)):\n",
    "  student_scores[score] = int(student_scores[score])\n",
    "print(student_scores)\n",
    "\n",
    "highest_score = 0\n",
    "for score in student_scores:\n",
    "    if score > highest_score:\n",
    "        highest_score = score\n",
    "print(f\"The highest score in the class is: {highest_score}\")"
   ]
  },
  {
   "cell_type": "code",
   "execution_count": 28,
   "id": "d5241dc3",
   "metadata": {},
   "outputs": [
    {
     "name": "stdout",
     "output_type": "stream",
     "text": [
      "5050\n"
     ]
    }
   ],
   "source": [
    "total = 0\n",
    "for number in range(1, 101):\n",
    "    total += number\n",
    "print(total)"
   ]
  },
  {
   "cell_type": "code",
   "execution_count": 34,
   "id": "ca3174f7",
   "metadata": {},
   "outputs": [
    {
     "name": "stdout",
     "output_type": "stream",
     "text": [
      "1\n",
      "21\n",
      "41\n",
      "61\n",
      "81\n"
     ]
    }
   ],
   "source": [
    "for coba in range(1, 101, 20):\n",
    "    print(coba)"
   ]
  },
  {
   "cell_type": "code",
   "execution_count": 67,
   "id": "f282dee1",
   "metadata": {},
   "outputs": [
    {
     "name": "stdout",
     "output_type": "stream",
     "text": [
      "2550\n",
      "2550\n"
     ]
    }
   ],
   "source": [
    "# option 1\n",
    "total = 0\n",
    "for even in range(2, 101, 2):\n",
    "    total += even\n",
    "print(total)\n",
    "\n",
    "# option 2\n",
    "total1 = 0\n",
    "for even in range(1, 101):\n",
    "    if even % 2 == 0:\n",
    "        total1 += even\n",
    "print(total1)"
   ]
  },
  {
   "cell_type": "code",
   "execution_count": 84,
   "id": "db70b09b",
   "metadata": {
    "scrolled": true
   },
   "outputs": [
    {
     "name": "stdout",
     "output_type": "stream",
     "text": [
      "1\n",
      "2\n",
      "Fizz\n",
      "4\n",
      "Buzz\n",
      "Fizz\n",
      "7\n",
      "8\n",
      "Fizz\n",
      "Buzz\n",
      "11\n",
      "Fizz\n",
      "13\n",
      "14\n",
      "Fizz\n",
      "16\n",
      "17\n",
      "Fizz\n",
      "19\n",
      "Buzz\n",
      "Fizz\n",
      "22\n",
      "23\n",
      "Fizz\n",
      "Buzz\n",
      "26\n",
      "Fizz\n",
      "28\n",
      "29\n",
      "Fizz\n",
      "31\n",
      "32\n",
      "Fizz\n",
      "34\n",
      "Buzz\n",
      "Fizz\n",
      "37\n",
      "38\n",
      "Fizz\n",
      "Buzz\n",
      "41\n",
      "Fizz\n",
      "43\n",
      "44\n",
      "Fizz\n",
      "46\n",
      "47\n",
      "Fizz\n",
      "49\n",
      "Buzz\n",
      "Fizz\n",
      "52\n",
      "53\n",
      "Fizz\n",
      "Buzz\n",
      "56\n",
      "Fizz\n",
      "58\n",
      "59\n",
      "Fizz\n",
      "61\n",
      "62\n",
      "Fizz\n",
      "64\n",
      "Buzz\n",
      "Fizz\n",
      "67\n",
      "68\n",
      "Fizz\n",
      "Buzz\n",
      "71\n",
      "Fizz\n",
      "73\n",
      "74\n",
      "Fizz\n",
      "76\n",
      "77\n",
      "Fizz\n",
      "79\n",
      "Buzz\n",
      "Fizz\n",
      "82\n",
      "83\n",
      "Fizz\n",
      "Buzz\n",
      "86\n",
      "Fizz\n",
      "88\n",
      "89\n",
      "Fizz\n",
      "91\n",
      "92\n",
      "Fizz\n",
      "94\n",
      "Buzz\n",
      "Fizz\n",
      "97\n",
      "98\n",
      "Fizz\n",
      "Buzz\n"
     ]
    }
   ],
   "source": [
    "# Fizz Buzz Exercise\n",
    "\n",
    "for number in range(1, 101):\n",
    "    if number % 3 == 0:\n",
    "        print(\"Fizz\")\n",
    "    elif number % 5 == 0:\n",
    "        print(\"Buzz\")\n",
    "    elif (number % 3 == 0) and (number % 5 == 0):\n",
    "        print(\"FizzBuzz\")\n",
    "    else:\n",
    "        print(number)"
   ]
  },
  {
   "cell_type": "code",
   "execution_count": 2,
   "id": "95b62218",
   "metadata": {},
   "outputs": [
    {
     "name": "stdout",
     "output_type": "stream",
     "text": [
      "Welcome to the PyPassword generator!\n",
      "How many letters would you like tin your password? \n",
      "5\n",
      "How many symbols would you like?\n",
      "3\n",
      "How many numbers would you like?\n",
      "4\n",
      "eJfWb666+***\n",
      "['z', 'M', 'z', 'p', 'G', '0', '7', '2', '&', '(', '#', '!']\n",
      "['M', 'z', '0', 'G', '7', '#', 'p', 'z', '!', '&', '(', '2']\n",
      "Your password is: Mz0G7#pz!&(2\n"
     ]
    }
   ],
   "source": [
    "# Password Generator Project\n",
    "\n",
    "import random\n",
    "\n",
    "letters = ['a', 'b', 'c', 'd', 'e', 'f', 'g', 'h', 'i', 'j', 'k', 'l', 'm', 'n', 'o', 'p', 'q', 'r', 's', 't', 'u', 'v', 'w', 'x', 'y', 'z', 'A', 'B', 'C', 'D', 'E', 'F', 'G', 'H', 'I', 'J', 'K', 'L', 'M', 'N', 'O', 'P', 'Q', 'R', 'S', 'T', 'U', 'V', 'W', 'X', 'Y', 'Z']\n",
    "numbers = ['0', '1', '2', '3', '4', '5', '6', '7', '8', '9']\n",
    "symbols = ['!', '#', '$', '%', '&', '(', ')', '*', '+']\n",
    "\n",
    "print(\"Welcome to the PyPassword generator!\")\n",
    "\n",
    "nr_letters = int(input(\"How many letters would you like tin your password? \\n\"))\n",
    "nr_symbols = int(input(f\"How many symbols would you like?\\n\"))\n",
    "nr_numbers = int(input(f\"How many numbers would you like?\\n\"))\n",
    "\n",
    "#Eazy Level - Order not randomised:\n",
    "#e.g. 4 letter, 2 symbol, 2 number = JduE&!91\n",
    "\n",
    "password = \"\"  \n",
    "\n",
    "for char in range(1, nr_letters + 1):\n",
    "    password += random.choice(letters)\n",
    "    \n",
    "for char in range(1, nr_symbols + 1):\n",
    "    password += random.choice(numbers) \n",
    "    \n",
    "for char in range(1, nr_numbers + 1):\n",
    "    password += random.choice(symbols)  \n",
    "    \n",
    "print(password)\n",
    "\n",
    "#Hard Level - Order of characters randomised:\n",
    "#e.g. 4 letter, 2 symbol, 2 number = g^2jk8&P\n",
    "\n",
    "password_list = []  \n",
    "\n",
    "for char in range(1, nr_letters + 1):\n",
    "    password_list.append(random.choice(letters))\n",
    "    \n",
    "for char in range(1, nr_symbols + 1):\n",
    "    password_list += random.choice(numbers)\n",
    "    \n",
    "for char in range(1, nr_numbers + 1):\n",
    "    password_list += random.choice(symbols) \n",
    "    \n",
    "print(password_list)\n",
    "random.shuffle(password_list)\n",
    "print(password_list)\n",
    "\n",
    "password = \"\"\n",
    "\n",
    "for char in password_list:\n",
    "    password += char\n",
    "print(f\"Your password is: {password}\")"
   ]
  }
 ],
 "metadata": {
  "kernelspec": {
   "display_name": "Python 3",
   "language": "python",
   "name": "python3"
  },
  "language_info": {
   "codemirror_mode": {
    "name": "ipython",
    "version": 3
   },
   "file_extension": ".py",
   "mimetype": "text/x-python",
   "name": "python",
   "nbconvert_exporter": "python",
   "pygments_lexer": "ipython3",
   "version": "3.8.8"
  },
  "toc": {
   "base_numbering": 1,
   "nav_menu": {},
   "number_sections": true,
   "sideBar": true,
   "skip_h1_title": false,
   "title_cell": "Table of Contents",
   "title_sidebar": "Contents",
   "toc_cell": false,
   "toc_position": {},
   "toc_section_display": true,
   "toc_window_display": false
  }
 },
 "nbformat": 4,
 "nbformat_minor": 5
}
