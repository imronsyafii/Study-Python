{
 "cells": [
  {
   "cell_type": "code",
   "execution_count": 7,
   "id": "71a2f5a9",
   "metadata": {},
   "outputs": [
    {
     "name": "stdout",
     "output_type": "stream",
     "text": [
      "{'Harry': 'Exceeds Expectations', 'Wawan': 'Acceptable', 'Roni': 'Acceptable', 'Imron': 'Outstanding', 'Draco': 'Acceptable', 'Beben': 'Exceeds Expectations', 'Pilo': 'Fail', 'Neville': 'Fail', 'Dancaw': 'Exceeds Expectations'}\n"
     ]
    }
   ],
   "source": [
    "## Grading Program ##\n",
    "\n",
    "student_scores = {\n",
    "  \"Harry\": 81,\n",
    "    \"Wawan\": 76,\n",
    "    \"Roni\": 78,\n",
    "  \"Imron\": 99, \n",
    "  \"Draco\": 74,\n",
    "    \"Beben\": 90,\n",
    "    \"Pilo\": 55,\n",
    "  \"Neville\": 68,\n",
    "    \"Dancaw\": 88,\n",
    "}\n",
    "\n",
    "# This is the scoring grades of criteria:\n",
    "#     Scores 91 - 100: Grade = \"Outstanding\"\n",
    "#     Scores 81 - 90: Grade = \"Exceeds Expectations\"\n",
    "#     Scores 71 - 80: Grade = \"Acceptable\"\n",
    "#     Scores 70 or lower: Grade = \"Fail\"\n",
    "\n",
    "student_grade = {}\n",
    "\n",
    "for student in student_scores:\n",
    "    score = student_scores[student]\n",
    "    if score > 90:\n",
    "        student_grade[student] = \"Outstanding\"\n",
    "    elif score > 80:\n",
    "        student_grade[student] = \"Exceeds Expectations\"\n",
    "    elif score > 70:\n",
    "        student_grade[student] = \"Acceptable\"\n",
    "    else:\n",
    "        student_grade[student] = \"Fail\"\n",
    "        \n",
    "print(student_grade)"
   ]
  },
  {
   "cell_type": "code",
   "execution_count": 10,
   "id": "3295448a",
   "metadata": {},
   "outputs": [
    {
     "ename": "SyntaxError",
     "evalue": "invalid syntax (<ipython-input-10-f235d7825e8f>, line 4)",
     "output_type": "error",
     "traceback": [
      "\u001b[1;36m  File \u001b[1;32m\"<ipython-input-10-f235d7825e8f>\"\u001b[1;36m, line \u001b[1;32m4\u001b[0m\n\u001b[1;33m    \"Indonesia\": \"Jakarta\", \"Jogja\", \"Bandung\", \"Cimahi\",\u001b[0m\n\u001b[1;37m                                   ^\u001b[0m\n\u001b[1;31mSyntaxError\u001b[0m\u001b[1;31m:\u001b[0m invalid syntax\n"
     ]
    }
   ],
   "source": [
    "# Nesting a List in a Dictionary Error Code\n",
    "\n",
    "travel_log = {\n",
    "    \"Indonesia\": \"Jakarta\", \"Jogja\", \"Bandung\", \"Cimahi\",\n",
    "    \"America\": \"Manhattan\", \"New York\", \"Seattle\",\n",
    "}\n",
    "\n",
    "print(travel_log)"
   ]
  },
  {
   "cell_type": "code",
   "execution_count": 8,
   "id": "2cff0234",
   "metadata": {},
   "outputs": [
    {
     "name": "stdout",
     "output_type": "stream",
     "text": [
      "{'Indonesia': ['Jakarta', 'Jogja', 'Bandung', 'Cimahi'], 'America': ['Manhattan', 'New York', 'Seattle']}\n"
     ]
    }
   ],
   "source": [
    "# Nesting a List in a Dictionary\n",
    "\n",
    "travel_log = {\n",
    "    \"Indonesia\": [\"Jakarta\", \"Jogja\", \"Bandung\", \"Cimahi\"],\n",
    "    \"America\": [\"Manhattan\", \"New York\", \"Seattle\"],\n",
    "}\n",
    "\n",
    "print(travel_log)"
   ]
  },
  {
   "cell_type": "code",
   "execution_count": 12,
   "id": "e9653305",
   "metadata": {},
   "outputs": [
    {
     "name": "stdout",
     "output_type": "stream",
     "text": [
      "{'Indonesia': ['Makasar', 'Medan'], 'America': ['Manhattan', 'New York', 'Seattle']}\n"
     ]
    }
   ],
   "source": [
    "# Nesting a List in a Dictionary\n",
    "\n",
    "travel_log = {\n",
    "    \"Indonesia\": [\"Jakarta\", \"Jogja\", \"Bandung\", \"Cimahi\"],\n",
    "    \"America\": [\"Manhattan\", \"New York\", \"Seattle\"],\n",
    "}\n",
    "\n",
    "travel_log[\"Indonesia\"] = [\"Makasar\", \"Medan\"]\n",
    "\n",
    "print(travel_log)"
   ]
  },
  {
   "cell_type": "code",
   "execution_count": 18,
   "id": "16d01620",
   "metadata": {},
   "outputs": [
    {
     "name": "stdout",
     "output_type": "stream",
     "text": [
      "{'Indonesia': {'cities_visited': ['Jakarta', 'Jogja', 'Bandung', 'Cimahi']}, 'America': ['Manhattan', 'New York', 'Seattle']}\n",
      "\n",
      "\n",
      "{'cities_visited': ['Jakarta', 'Jogja', 'Bandung', 'Cimahi']}\n"
     ]
    }
   ],
   "source": [
    "travel_log = {\n",
    "    \"Indonesia\": {\"cities_visited\": [\"Jakarta\", \"Jogja\", \"Bandung\", \"Cimahi\"]},\n",
    "    \"America\": [\"Manhattan\", \"New York\", \"Seattle\"],\n",
    "}\n",
    "\n",
    "print(travel_log)\n",
    "print(\"\\n\")\n",
    "print(travel_log[\"Indonesia\"])"
   ]
  },
  {
   "cell_type": "code",
   "execution_count": 19,
   "id": "b83caecb",
   "metadata": {},
   "outputs": [],
   "source": [
    "#Nesting Dictionaries in Lists\n",
    "\n",
    "travel_log = [\n",
    "{\n",
    "  \"country\": \"France\", \n",
    "  \"cities_visited\": [\"Paris\", \"Lille\", \"Dijon\"], \n",
    "  \"total_visits\": 12,\n",
    "},\n",
    "{\n",
    "  \"country\": \"Germany\",\n",
    "  \"cities_visited\": [\"Berlin\", \"Hamburg\", \"Stuttgart\"],\n",
    "  \"total_visits\": 5,\n",
    "},\n",
    "]"
   ]
  }
 ],
 "metadata": {
  "kernelspec": {
   "display_name": "Python 3",
   "language": "python",
   "name": "python3"
  },
  "language_info": {
   "codemirror_mode": {
    "name": "ipython",
    "version": 3
   },
   "file_extension": ".py",
   "mimetype": "text/x-python",
   "name": "python",
   "nbconvert_exporter": "python",
   "pygments_lexer": "ipython3",
   "version": "3.8.8"
  },
  "toc": {
   "base_numbering": 1,
   "nav_menu": {},
   "number_sections": true,
   "sideBar": true,
   "skip_h1_title": false,
   "title_cell": "Table of Contents",
   "title_sidebar": "Contents",
   "toc_cell": false,
   "toc_position": {},
   "toc_section_display": true,
   "toc_window_display": false
  }
 },
 "nbformat": 4,
 "nbformat_minor": 5
}
