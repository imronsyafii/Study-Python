{
 "cells": [
  {
   "cell_type": "code",
   "execution_count": 1,
   "id": "f0c7ae42",
   "metadata": {},
   "outputs": [
    {
     "name": "stdout",
     "output_type": "stream",
     "text": [
      "Hello Imron\n"
     ]
    }
   ],
   "source": [
    "print(\"Hello\" + \" Imron\")"
   ]
  },
  {
   "cell_type": "code",
   "execution_count": 2,
   "id": "c83a7cd6",
   "metadata": {},
   "outputs": [
    {
     "name": "stdout",
     "output_type": "stream",
     "text": [
      "Hello Imron\n",
      "Hello Imron\n"
     ]
    }
   ],
   "source": [
    "print(\"Hello Imron\\nHello Imron\")"
   ]
  },
  {
   "cell_type": "code",
   "execution_count": 3,
   "id": "b4677806",
   "metadata": {},
   "outputs": [
    {
     "name": "stdout",
     "output_type": "stream",
     "text": [
      "Hallo Imron\n"
     ]
    }
   ],
   "source": [
    "print(\"Hallo Imron\")"
   ]
  },
  {
   "cell_type": "code",
   "execution_count": 4,
   "id": "070648c6",
   "metadata": {},
   "outputs": [
    {
     "name": "stdout",
     "output_type": "stream",
     "text": [
      "What is your name? Imran\n"
     ]
    },
    {
     "data": {
      "text/plain": [
       "'Imran'"
      ]
     },
     "execution_count": 4,
     "metadata": {},
     "output_type": "execute_result"
    }
   ],
   "source": [
    "input(\"What is your name? \")"
   ]
  },
  {
   "cell_type": "code",
   "execution_count": 8,
   "id": "dfcb08b6",
   "metadata": {},
   "outputs": [
    {
     "name": "stdout",
     "output_type": "stream",
     "text": [
      "What is your name?\n",
      "Imran\n",
      "Hello Imran\n"
     ]
    }
   ],
   "source": [
    "# print(\"Hello \" + input(\"What is your name?\\n\")) << ctrl + /"
   ]
  },
  {
   "cell_type": "code",
   "execution_count": 13,
   "id": "242cc70a",
   "metadata": {},
   "outputs": [
    {
     "name": "stdout",
     "output_type": "stream",
     "text": [
      "What is your name? Imran\n",
      "Imran\n"
     ]
    },
    {
     "data": {
      "text/plain": [
       "5"
      ]
     },
     "execution_count": 13,
     "metadata": {},
     "output_type": "execute_result"
    }
   ],
   "source": [
    "name = input(\"What is your name? \")\n",
    "print(name)\n",
    "len(a) #number of characters in a"
   ]
  },
  {
   "cell_type": "code",
   "execution_count": 12,
   "id": "3345c419",
   "metadata": {
    "scrolled": true
   },
   "outputs": [
    {
     "name": "stdout",
     "output_type": "stream",
     "text": [
      "What is your name? Imran\n",
      "5\n"
     ]
    }
   ],
   "source": [
    "print(len(input(\"What is your name? \")))"
   ]
  },
  {
   "cell_type": "code",
   "execution_count": 7,
   "id": "90c356ea",
   "metadata": {},
   "outputs": [
    {
     "name": "stdout",
     "output_type": "stream",
     "text": [
      "a:12\n",
      "b:13\n",
      "a: 13\n",
      "b 12\n"
     ]
    }
   ],
   "source": [
    "a = input(\"a:\")\n",
    "b = input(\"b:\")\n",
    "\n",
    "c = a\n",
    "a = b\n",
    "b = c\n",
    "\n",
    "\n",
    "print(\"a: \" + a)\n",
    "print(\"b \" + b)"
   ]
  },
  {
   "cell_type": "code",
   "execution_count": 18,
   "id": "c2914f4c",
   "metadata": {},
   "outputs": [
    {
     "name": "stdout",
     "output_type": "stream",
     "text": [
      "Welcome to the Band Name Generator.\n",
      "What's name of the city you grew up in?\n",
      " Jogja\n",
      "What's your pet's name?\n",
      " Haci\n",
      "Your band name could be Jogja Haci\n"
     ]
    }
   ],
   "source": [
    "## Day 1 Project ##\n",
    "\n",
    "print(\"Welcome to the Band Name Generator.\")\n",
    "var1 = input(\"What's name of the city you grew up in?\\n \")\n",
    "var2 = input(\"What's your pet's name?\\n \")\n",
    "\n",
    "print(\"Your band name could be \" + var1 + \" \" + var2)"
   ]
  }
 ],
 "metadata": {
  "kernelspec": {
   "display_name": "Python 3",
   "language": "python",
   "name": "python3"
  },
  "language_info": {
   "codemirror_mode": {
    "name": "ipython",
    "version": 3
   },
   "file_extension": ".py",
   "mimetype": "text/x-python",
   "name": "python",
   "nbconvert_exporter": "python",
   "pygments_lexer": "ipython3",
   "version": "3.8.8"
  },
  "toc": {
   "base_numbering": 1,
   "nav_menu": {},
   "number_sections": true,
   "sideBar": true,
   "skip_h1_title": false,
   "title_cell": "Table of Contents",
   "title_sidebar": "Contents",
   "toc_cell": false,
   "toc_position": {},
   "toc_section_display": true,
   "toc_window_display": false
  }
 },
 "nbformat": 4,
 "nbformat_minor": 5
}
