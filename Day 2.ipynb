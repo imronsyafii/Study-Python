{
 "cells": [
  {
   "cell_type": "code",
   "execution_count": 4,
   "id": "49350d1c",
   "metadata": {},
   "outputs": [
    {
     "name": "stdout",
     "output_type": "stream",
     "text": [
      "What's your name? Imron\n",
      "Your name has 5 characters.\n"
     ]
    }
   ],
   "source": [
    "# Day 2\n",
    "\n",
    "numb_char = str(len(input(\"What's your name? \")))\n",
    "print(\"Your name has \" + numb_char + \" characters.\")"
   ]
  },
  {
   "cell_type": "code",
   "execution_count": 1,
   "id": "f3a47928",
   "metadata": {},
   "outputs": [
    {
     "name": "stdout",
     "output_type": "stream",
     "text": [
      "Type a two digit number: 15\n",
      "Now ur sum of digit number is 6\n"
     ]
    }
   ],
   "source": [
    "input_client = input(\"Type a two digit number: \")\n",
    "\n",
    "first_digit = input_client[0]\n",
    "second_digit = input_client[1]\n",
    "\n",
    "result = int(first_digit) + int(second_digit)\n",
    "print(\"Now ur sum of digit number is \" + str(result))"
   ]
  },
  {
   "cell_type": "code",
   "execution_count": 2,
   "id": "3e627bf9",
   "metadata": {},
   "outputs": [
    {
     "name": "stdout",
     "output_type": "stream",
     "text": [
      "enter your weight: 80\n",
      "enter your height: 1.75\n",
      "26\n"
     ]
    }
   ],
   "source": [
    "# Body mass index\n",
    "\n",
    "weight = int(input(\"enter your weight: \"))\n",
    "height = float(input(\"enter your height: \"))\n",
    "\n",
    "result = (weight) / (height * height)\n",
    "print(int(result))"
   ]
  },
  {
   "cell_type": "code",
   "execution_count": 5,
   "id": "cf43f80e",
   "metadata": {},
   "outputs": [
    {
     "name": "stdout",
     "output_type": "stream",
     "text": [
      "3.0625\n",
      "3\n"
     ]
    }
   ],
   "source": [
    "print(1.75 * 1.75)\n",
    "print(round(9//3))"
   ]
  },
  {
   "cell_type": "code",
   "execution_count": 8,
   "id": "19ef33aa",
   "metadata": {},
   "outputs": [
    {
     "name": "stdout",
     "output_type": "stream",
     "text": [
      "Please input your current age: 65\n",
      "You have 9125 days, 1300 weeks, and 25 months left\n"
     ]
    }
   ],
   "source": [
    "# Coding Challenge -  Your Life in Weeks\n",
    "\n",
    "age = int(input(\"Please input your current age: \"))\n",
    "\n",
    "years_remaining = 90 - age\n",
    "days_remaining = years_remaining * 365\n",
    "weeks_remaining = years_remaining * 52\n",
    "months_remaining = years_remaining * 12\n",
    "\n",
    "messages = f\"You have {days_remaining} days, {weeks_remaining} weeks, and {years_remaining} months left\"\n",
    "print(messages)"
   ]
  },
  {
   "cell_type": "code",
   "execution_count": 26,
   "id": "54db3827",
   "metadata": {},
   "outputs": [
    {
     "name": "stdout",
     "output_type": "stream",
     "text": [
      "Welcome to the tip calculator.\n",
      "What was the total bill? $150\n",
      "What percentage tip would you like to give? 10, 12, or 15? 12\n",
      "How many people to split the bill? 5\n",
      "Each person should pay is $ 33.60\n"
     ]
    }
   ],
   "source": [
    "# Day 2 - Project tip Calculator\n",
    "\n",
    "#If the bill was $150.00, split between 5 people, with 12% tip. \n",
    "\n",
    "#Each person should pay (150.00 / 5) * 1.12 = 33.6\n",
    "#Format the result to 2 decimal places = 33.60\n",
    "\n",
    "#Tip: There are 2 ways to round a number. You might have to do some Googling to solve this.💪\n",
    "\n",
    "#Write your code below this line 👇\n",
    "\n",
    "print(\"Welcome to the tip calculator.\")\n",
    "\n",
    "bill = float(input(\"What was the total bill? $\"))\n",
    "tip = int(input(\"What percentage tip would you like to give? 10, 12, or 15? \"))\n",
    "people = int(input(\"How many people to split the bill? \"))\n",
    "\n",
    "#Calculate tip\n",
    "tip_percent = (tip / 100) * bill\n",
    "total_tip = tip_percent + bill\n",
    "total = total_tip/people\n",
    "# final_total = round(total, 2)\n",
    "two_decimals = (\"{:.2f}\".format(total))\n",
    "result = f\"Each person should pay is $ {two_decimals}\"\n",
    "print(result)"
   ]
  }
 ],
 "metadata": {
  "kernelspec": {
   "display_name": "Python 3",
   "language": "python",
   "name": "python3"
  },
  "language_info": {
   "codemirror_mode": {
    "name": "ipython",
    "version": 3
   },
   "file_extension": ".py",
   "mimetype": "text/x-python",
   "name": "python",
   "nbconvert_exporter": "python",
   "pygments_lexer": "ipython3",
   "version": "3.8.8"
  },
  "toc": {
   "base_numbering": 1,
   "nav_menu": {},
   "number_sections": true,
   "sideBar": true,
   "skip_h1_title": false,
   "title_cell": "Table of Contents",
   "title_sidebar": "Contents",
   "toc_cell": false,
   "toc_position": {},
   "toc_section_display": true,
   "toc_window_display": false
  }
 },
 "nbformat": 4,
 "nbformat_minor": 5
}
