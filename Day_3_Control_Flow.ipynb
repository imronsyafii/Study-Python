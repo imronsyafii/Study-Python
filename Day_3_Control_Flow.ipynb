{
 "cells": [
  {
   "cell_type": "code",
   "execution_count": 2,
   "id": "62262ea9",
   "metadata": {},
   "outputs": [
    {
     "name": "stdout",
     "output_type": "stream",
     "text": [
      "Welcome to the rellercoaster!\n",
      "What's your height in cm? 120\n",
      "You can ride the rollercoaster!\n"
     ]
    }
   ],
   "source": [
    "# Day 3\n",
    "\n",
    "print(\"Welcome to the rollercoaster!\")\n",
    "height = int(input(\"What's your height in cm? \"))\n",
    "\n",
    "if height >= 120:\n",
    "    print(\"You can ride the rollercoaster!\")\n",
    "else:\n",
    "    print(\"Sorry, you can't ride the rollercoaster!\")"
   ]
  },
  {
   "cell_type": "code",
   "execution_count": 4,
   "id": "76b15c6a",
   "metadata": {},
   "outputs": [
    {
     "name": "stdout",
     "output_type": "stream",
     "text": [
      "Which number do you want to check? 94\n",
      "This's an even number.\n"
     ]
    }
   ],
   "source": [
    "# Coding challenge\n",
    "\n",
    "question = int(input(\"Which number do you want to check? \"))\n",
    "\n",
    "if question % 2 == 0:\n",
    "    print(\"This's an even number.\")\n",
    "else:\n",
    "    print(\"This's an odd number.\")"
   ]
  },
  {
   "cell_type": "code",
   "execution_count": 8,
   "id": "38285d12",
   "metadata": {},
   "outputs": [
    {
     "name": "stdout",
     "output_type": "stream",
     "text": [
      "Welcome to the rollercoaster! \n",
      "What's your height in cm? 121\n",
      "You can ride the rollercoaster!\n",
      "What's your age? 25\n",
      "You pay $12\n"
     ]
    }
   ],
   "source": [
    "print(\"Welcome to the rollercoaster! \")\n",
    "height = int(input(\"What's your height in cm? \"))\n",
    "\n",
    "if height >= 120:\n",
    "    print(\"You can ride the rollercoaster!\")\n",
    "    age = int(input(\"What's your age? \"))\n",
    "    if age < 12:\n",
    "        print(\"You pay $5\")\n",
    "    elif age <= 18:\n",
    "        print(\"You pay $7\")\n",
    "    else:\n",
    "        print(\"You pay $12\")\n",
    "else:\n",
    "    print(\"Sorry, you can't ride the rollercoaster!\")"
   ]
  },
  {
   "cell_type": "code",
   "execution_count": 19,
   "id": "599a0c49",
   "metadata": {},
   "outputs": [
    {
     "name": "stdout",
     "output_type": "stream",
     "text": [
      "Please enter your weight in kg: 85\n",
      "Please enter your height in m: 1.75\n",
      "Your BMI is 27.755102040816325, they are slightly overweight\n"
     ]
    }
   ],
   "source": [
    "# Coding challenge\n",
    "\n",
    "weight = int(input(\"Please enter your weight in kg: \"))\n",
    "height = float(input(\"Please enter your height in m: \"))\n",
    "\n",
    "BMI = round(weight) / (height **2)\n",
    "# BMI = float(print(\"{:.2f}\".format(formula))\n",
    "\n",
    "if BMI <= 18.5:\n",
    "    print(f\"Your BMI is {BMI}, they are underweight\")\n",
    "elif BMI <= 25:\n",
    "        print(f\"Your BMI is {BMI}, they have a normal weight\")\n",
    "elif BMI <= 30:\n",
    "        print(f\"Your BMI is {BMI}, they are slightly overweight\")\n",
    "elif BMI <= 35:\n",
    "        print(f\"Your BMI is {BMI}, they are obese\")\n",
    "else:\n",
    "    print(f\"Your BMI is {BMI}, they are clinically obese\")\n"
   ]
  },
  {
   "cell_type": "code",
   "execution_count": 16,
   "id": "9f8bfa3c",
   "metadata": {},
   "outputs": [
    {
     "name": "stdout",
     "output_type": "stream",
     "text": [
      "Which year do you want to check? 1989\n",
      "Not Leap Year. \n"
     ]
    }
   ],
   "source": [
    "# Leap Year Challenge\n",
    "\n",
    "year = int(input(\"Which year do you want to check? \"))\n",
    "\n",
    "if year % 4 == 0:\n",
    "    if year % 100 == 0:\n",
    "        if year % 400 == 0:\n",
    "            print(\"Leap Year.\")\n",
    "        else:\n",
    "            print(\"Not Leap Year.\")\n",
    "    else:\n",
    "        print(\"Leap Year.\")\n",
    "else:\n",
    "    print(\"Not Leap Year. \")"
   ]
  },
  {
   "cell_type": "code",
   "execution_count": 1,
   "id": "d9e8e293",
   "metadata": {},
   "outputs": [
    {
     "name": "stdout",
     "output_type": "stream",
     "text": [
      "Welcome to Python Pizza Deliveries!\n",
      "What size pizza do you want? S, M, or LM\n",
      "Do you want papperoni? Y or NY\n",
      "Do you want extra cheese? Y or NY\n",
      "Your final bill is: $24\n"
     ]
    }
   ],
   "source": [
    "# Pizza Order Program\n",
    "\n",
    "print(\"Welcome to Python Pizza Deliveries!\")\n",
    "\n",
    "size = input(\"What size pizza do you want? S, M, or L\")\n",
    "add_papperoni = input(\"Do you want papperoni? Y or N\")\n",
    "add_extra_chesee = input(\"Do you want extra cheese? Y or N\")\n",
    "bill = 0\n",
    "\n",
    "if size == \"S\":\n",
    "    bill += 15\n",
    "elif size == \"M\":\n",
    "    bill += 20\n",
    "else:\n",
    "    bill += 25\n",
    "    \n",
    "    \n",
    "if add_papperoni == \"Y\":\n",
    "    if size == \"S\":\n",
    "        bill += 2\n",
    "    else:\n",
    "        bill += 3\n",
    "    \n",
    "    \n",
    "if add_extra_chesee == \"Y\":\n",
    "    bill += 1\n",
    "    print(f\"Your final bill is: ${bill}\")"
   ]
  },
  {
   "cell_type": "code",
   "execution_count": 6,
   "id": "7953438e",
   "metadata": {},
   "outputs": [
    {
     "name": "stdout",
     "output_type": "stream",
     "text": [
      "Welcome to the rollercoaster! \n",
      "What's your height in cm? 175\n",
      "You can ride the rollercoaster!\n",
      "What's your age? 55\n",
      "Do you want to photo? Y or NY\n",
      "The total bill is $ 3\n"
     ]
    }
   ],
   "source": [
    "# Multiple if Statements\n",
    "\n",
    "print(\"Welcome to the rollercoaster! \")\n",
    "height = int(input(\"What's your height in cm? \"))\n",
    "bill = 0\n",
    "\n",
    "if height >= 120:\n",
    "    print(\"You can ride the rollercoaster!\")\n",
    "    age = int(input(\"What's your age? \"))\n",
    "    if age < 12:\n",
    "        bill += 5\n",
    "    elif age <= 18:\n",
    "        bill += 7\n",
    "    elif age >= 45 and age <= 55:    #and is logical operator\n",
    "        bill += 0\n",
    "    else:\n",
    "        bill += 12\n",
    "        \n",
    "    wants_photo = input(\"Do you want to photo? Y or N\")\n",
    "    if wants_photo == \"Y\":\n",
    "        bill += 3\n",
    "    print(f\"The total bill is $ {bill}\") \n",
    "else:\n",
    "    print(\"Sorry, you can't ride the rollercoaster!\")"
   ]
  },
  {
   "cell_type": "code",
   "execution_count": 18,
   "id": "b0194a90",
   "metadata": {},
   "outputs": [
    {
     "name": "stdout",
     "output_type": "stream",
     "text": [
      "Welcome to The Love Calculator!\n",
      "What's your name? \n",
      "Muhammad Imron Syafii Rahmat\n",
      "What's your name? \n",
      "Zola Austin Elfadhilla Eusman\n",
      "your score is 17\n"
     ]
    }
   ],
   "source": [
    "# Another Challenge Love Calculator\n",
    "\n",
    "print(\"Welcome to The Love Calculator!\")\n",
    "name1 = input(\"What's your name? \\n\")\n",
    "name2 = input(\"What's your name? \\n\")\n",
    "\n",
    "# abbreviate lm1 = lower name \n",
    "combined_names = name1 + name2\n",
    "lm = combined_names.lower()\n",
    "\n",
    "# Hitung name1\n",
    "\n",
    "T = lm.count(\"t\")\n",
    "R = lm.count(\"r\")\n",
    "U = lm.count(\"u\")\n",
    "E = lm.count(\"e\")\n",
    "\n",
    "L = lm.count(\"l\")\n",
    "O = lm.count(\"o\")\n",
    "V = lm.count(\"v\")\n",
    "E = lm.count(\"e\")\n",
    "\n",
    "true_love = (T + R + U + E) + (L + O + V + E)\n",
    "score = int(str(true_love))\n",
    "\n",
    "if (score < 10) or (score > 90):\n",
    "    print(f\"your score is {score}, You go together like coke and mentos.\")\n",
    "elif (score >=40) and (score <= 50):\n",
    "    print(f\"your score is {score}, You are alright together\")\n",
    "else:\n",
    "    print(f\"your score is {score}\")"
   ]
  },
  {
   "cell_type": "code",
   "execution_count": 12,
   "id": "e0e9abdc",
   "metadata": {},
   "outputs": [
    {
     "name": "stdout",
     "output_type": "stream",
     "text": [
      "Welcome to Gunung Gede Game.\n",
      "Your mission is to find the treasure.\n",
      "\n",
      "                   %\\            %                  %% \\          %% \\           \n",
      "                 %%   \\        %%   \\         \n",
      "                %%%    \\      %%%    \\       \n",
      "               %%%      \\    %%%      \\     \n",
      "              %%%%       \\  %%%%       \\   \n",
      "             %%%%         \\%%%%         \\ \n",
      "            %%%%%         %%%%%          \\ \n",
      "           %%%%%       .-%%%%%,---------------.           \n",
      "                     .'.'     |  Welcome to   |           \n",
      "                  .-' /       |  Gunung Gede  |\n",
      "              _.-'   :        `-------++------'\n",
      "         .--'\"       `.               ||\n",
      "       ,'              `-._           ||      \n",
      "      :                    `--..._____||_________\n",
      "      :           \n",
      "      `.           \n",
      "\n",
      "left or right? left\n",
      "swim or wait? wait\n",
      "which door? red, blue, yellow, or other? blue\n",
      "Eaten by beasts. Game Over. \n"
     ]
    }
   ],
   "source": [
    "print(\"Welcome to Gunung Gede Game.\")\n",
    "print(\"Your mission is to find the treasure.\")\n",
    "\n",
    "print('''\n",
    "                   %\\            %\\\n",
    "                  %% \\          %% \\           \n",
    "                 %%   \\        %%   \\         \n",
    "                %%%    \\      %%%    \\       \n",
    "               %%%      \\    %%%      \\     \n",
    "              %%%%       \\  %%%%       \\   \n",
    "             %%%%         \\%%%%         \\ \n",
    "            %%%%%         %%%%%          \\ \n",
    "           %%%%%       .-%%%%%,---------------.           \n",
    "                     .'.'     |  Welcome to   |           \n",
    "                  .-' /       |  Gunung Gede  |\n",
    "              _.-'   :        `-------++------'\n",
    "         .--'\"       `.               ||\n",
    "       ,'              `-._           ||      \n",
    "      :                    `--..._____||_________\n",
    "      :           \n",
    "      `.           \n",
    "''')\n",
    "\n",
    "question1 = input(\"left or right? \").lower()\n",
    "\n",
    "if question1 == \"left\":\n",
    "    question2 = input(\"swim or wait? \").lower()\n",
    "    if question2 == \"wait\":\n",
    "        question3 = input(\"which door? red, blue, yellow, or other? \").lower()\n",
    "        if question3 == \"yellow\":\n",
    "            print(\"You Win!\")\n",
    "        elif question3 == \"red\":\n",
    "            print(\"Burned by fire. Game over.\")\n",
    "        elif question3 == \"blue\":\n",
    "            print(\"Eaten by beasts. Game Over. \")\n",
    "        else:\n",
    "            print(\"Game Over.\")\n",
    "    else:\n",
    "        print(\"Attacked by trout. Game Over.\")\n",
    "else:\n",
    "    print(\"Fall into a hole. Game Over.\")"
   ]
  },
  {
   "cell_type": "code",
   "execution_count": null,
   "id": "50292aa8",
   "metadata": {},
   "outputs": [],
   "source": []
  }
 ],
 "metadata": {
  "kernelspec": {
   "display_name": "Python 3.9.0 64-bit",
   "language": "python",
   "name": "python3"
  },
  "language_info": {
   "codemirror_mode": {
    "name": "ipython",
    "version": 3
   },
   "file_extension": ".py",
   "mimetype": "text/x-python",
   "name": "python",
   "nbconvert_exporter": "python",
   "pygments_lexer": "ipython3",
   "version": "3.9.0"
  },
  "toc": {
   "base_numbering": 1,
   "nav_menu": {},
   "number_sections": true,
   "sideBar": true,
   "skip_h1_title": false,
   "title_cell": "Table of Contents",
   "title_sidebar": "Contents",
   "toc_cell": false,
   "toc_position": {},
   "toc_section_display": true,
   "toc_window_display": false
  },
  "vscode": {
   "interpreter": {
    "hash": "ea4861ddc7105870717d47462546fa97854214ef8958f43fbf0e7aa66223642a"
   }
  }
 },
 "nbformat": 4,
 "nbformat_minor": 5
}
