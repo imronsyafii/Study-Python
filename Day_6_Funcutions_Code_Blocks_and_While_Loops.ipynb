{
 "cells": [
  {
   "cell_type": "code",
   "execution_count": 1,
   "id": "54ad9ef3",
   "metadata": {},
   "outputs": [
    {
     "name": "stdout",
     "output_type": "stream",
     "text": [
      "Hello Imron\n",
      "How are you today?\n"
     ]
    }
   ],
   "source": [
    "# Bulit in function\n",
    "# definition function\n",
    "\n",
    "def my_function():\n",
    "    print(\"Hello Imron\")\n",
    "    print(\"How are you today?\")\n",
    "    \n",
    "my_function()"
   ]
  },
  {
   "cell_type": "code",
   "execution_count": 3,
   "id": "f87b8e53",
   "metadata": {},
   "outputs": [
    {
     "name": "stdout",
     "output_type": "stream",
     "text": [
      "Hello Imron\n",
      "How are you today?\n"
     ]
    }
   ],
   "source": [
    "def my_function():\n",
    "    print(\"Hello Imron\")\n",
    "my_function()  # << Dependent by def\n",
    "print(\"How are you today?\")  # << Independent"
   ]
  },
  {
   "cell_type": "code",
   "execution_count": null,
   "id": "cb2af4c8",
   "metadata": {},
   "outputs": [],
   "source": [
    "# Website game https://reeborg.ca/reeborg.html?lang=en&mode=python&menu=worlds%2Fmenus%2Freeborg_intro_en.json&name=Alone&url=worlds%2Ftutorial_en%2Falone.json\n",
    "# https://reeborg.ca/reeborg.html?lang=en&mode=python&menu=worlds%2Fmenus%2Freeborg_intro_en.json&name=Hurdle%201&url=worlds%2Ftutorial_en%2Fhurdle1.json\n",
    "\n",
    "# Solution\n",
    "\n",
    "def turn_right():\n",
    "    turn_left()\n",
    "    turn_left()\n",
    "    turn_left()\n",
    "\n",
    "def jump():\n",
    "    move()\n",
    "    turn_left()\n",
    "    move()\n",
    "    turn_right()\n",
    "    move()\n",
    "    turn_right()\n",
    "    move()\n",
    "    turn_left()\n",
    "\n",
    "# for step in range(6):\n",
    "#     jump()\n",
    "\n",
    "# number_of_hurdless = 6\n",
    "# while number_of_hurdless > 0:\n",
    "#     jump()\n",
    "#     number_of_hurdless -= 1\n",
    "#     print(number_of_hurdless)\n",
    "\n"
   ]
  },
  {
   "cell_type": "code",
   "execution_count": 7,
   "id": "6dd7eea6",
   "metadata": {},
   "outputs": [
    {
     "name": "stdout",
     "output_type": "stream",
     "text": [
      "World\n"
     ]
    }
   ],
   "source": [
    "# Indentation\n",
    "# fun fact indentation use 4 spaces (TAB VS SPACES) :D\n",
    "\n",
    "def my_function():\n",
    "    if sky == \"clear\":\n",
    "        print(\"blue\")\n",
    "    elif sky == \"cloudly\":\n",
    "        print(\"grey\")\n",
    "    print(\"Hello\")\n",
    "print(\"World\")"
   ]
  },
  {
   "cell_type": "code",
   "execution_count": 8,
   "id": "48234171",
   "metadata": {},
   "outputs": [],
   "source": [
    "def my_function():\n",
    "  print(\"Hello\")   #< tidak error"
   ]
  }
 ],
 "metadata": {
  "kernelspec": {
   "display_name": "Python 3.9.0 64-bit",
   "language": "python",
   "name": "python3"
  },
  "language_info": {
   "codemirror_mode": {
    "name": "ipython",
    "version": 3
   },
   "file_extension": ".py",
   "mimetype": "text/x-python",
   "name": "python",
   "nbconvert_exporter": "python",
   "pygments_lexer": "ipython3",
   "version": "3.9.0"
  },
  "toc": {
   "base_numbering": 1,
   "nav_menu": {},
   "number_sections": true,
   "sideBar": true,
   "skip_h1_title": false,
   "title_cell": "Table of Contents",
   "title_sidebar": "Contents",
   "toc_cell": false,
   "toc_position": {},
   "toc_section_display": true,
   "toc_window_display": false
  },
  "vscode": {
   "interpreter": {
    "hash": "ea4861ddc7105870717d47462546fa97854214ef8958f43fbf0e7aa66223642a"
   }
  }
 },
 "nbformat": 4,
 "nbformat_minor": 5
}
